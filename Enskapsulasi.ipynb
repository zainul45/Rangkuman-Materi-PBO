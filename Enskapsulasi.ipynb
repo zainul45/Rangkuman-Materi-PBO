{
 "cells": [
  {
   "cell_type": "markdown",
   "metadata": {},
   "source": [
    "enkapsulasi digunakan untuk merujuk ke salah satu dari dua gagasan yang terkait tetapi berbeda, dan kadang-kadang untuk kombinasi.\n",
    "Mekanisme bahasa untuk membatasi akses langsung ke beberapa komponen objek.\n",
    "Sebuah konstruksi bahasa yang memfasilitasi bundling data dengan metode (atau fungsi lain) yang beroperasi pada data tersebut."
   ]
  },
  {
   "cell_type": "code",
   "execution_count": null,
   "metadata": {},
   "outputs": [],
   "source": [
    "class pegawai:\n",
    "    __nama=\"\"\n",
    "    __alamat=\"\"\n",
    "    __gaji=0\n",
    "\n",
    "    def __init__(self,nama,alamat):\n",
    "        self.__nama=nama\n",
    "        self.__alamat=alamat\n",
    "\n",
    "    def __hitunggaji(self):\n",
    "        upah_lembur=20000\n",
    "        gaji_pokok=2000000\n",
    "        jum_lembur=int(input(\"Total Jam Lembur :\"))\n",
    "        self.__gaji=(upah_lembur * jum_lembur) + gaji_pokok\n",
    "\n",
    "    def tampil(self):\n",
    "        print (\"\\n-- Menghitung dan Menampilkan Detail Gaji Pegawai ---\")\n",
    "        print (\"Nama : \",self.__nama)\n",
    "        print (\"Alamat : \",self.__alamat)\n",
    "\n",
    "        self.__hitunggaji()\n",
    "        print (\"Total Gaji : \",self.__gaji)\n",
    "\n",
    "pgw=pegawai(\"Zainul Abad\",\"Ploso Nganjuk\")\n",
    "pgw.tampil()\n",
    "\n",
    "pgw2=pegawai(\"Iqbal Okthapian\",\"Lamongan\")\n",
    "pgw2.tampil()\n",
    "        \n",
    "    \n"
   ]
  }
 ],
 "metadata": {
  "kernelspec": {
   "display_name": "Python 3",
   "language": "python",
   "name": "python3"
  },
  "language_info": {
   "codemirror_mode": {
    "name": "ipython",
    "version": 3
   },
   "file_extension": ".py",
   "mimetype": "text/x-python",
   "name": "python",
   "nbconvert_exporter": "python",
   "pygments_lexer": "ipython3",
   "version": "3.6.5"
  }
 },
 "nbformat": 4,
 "nbformat_minor": 2
}
