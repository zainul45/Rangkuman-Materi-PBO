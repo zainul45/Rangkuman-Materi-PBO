{
 "cells": [
  {
   "cell_type": "markdown",
   "metadata": {},
   "source": [
    "Overloading adalah konsep di mana metode / fungsi dapat memiliki beberapa tanda panggilan dibandingkan dengan hanya satu dalam metode / fungsi non-kelebihan. Untuk lebih spesifik, jumlah argumen dengan mana suatu fungsi dapat dipanggil dengan, dalam python mendefinisikan overloading di python.\n",
    "\n",
    "\n",
    "#Operator Overloading\n",
    "operator overloading, kadang-kadang disebut operator ad hoc polymorphism, adalah kasus spesifik polimorfisme, di mana operator yang berbeda memiliki implementasi yang berbeda tergantung pada argumen mereka. \n",
    "Operator overload umumnya didefinisikan oleh bahasa pemrograman, programmer, atau keduanya."
   ]
  },
  {
   "cell_type": "code",
   "execution_count": null,
   "metadata": {},
   "outputs": [],
   "source": [
    "class Fraction:\n",
    "    def __init__(self,top,bottom):\n",
    "        self.num = top\n",
    "        self.den = bottom\n",
    "    def show(self):\n",
    "        print(self.num,\"/\",self.den)\n",
    "    def __str__(self):\n",
    "        return str(self.num)+\"/\"+str(self.den)\n",
    "\n",
    "f = Fraction(2,4)\n",
    "f.show()\n",
    "print(f)\n",
    "\n",
    "def __add__(self,otherfraction):\n",
    "    newnum = self.num * otherfraction.den+self.den * otherfraction.num\n",
    "    newden = self.den * otherfraction.den\n",
    "\n",
    "    return Fraction(newnum,newden)\n",
    "    \n",
    "f1 = Fraction(1,4)\n",
    "f2 = Fraction(1,2)\n",
    "print(f1+f2)\n"
   ]
  },
  {
   "cell_type": "markdown",
   "metadata": {},
   "source": [
    "#Method Overloading\n",
    "Dengan Python dapat menentukan metode sedemikian rupa sehingga ada beberapa cara untuk memanggilnya.\n",
    "Dengan metode atau fungsi tunggal, kita dapat menentukan jumlah parameternya sendiri.\n",
    "Tergantung pada definisi fungsi, itu bisa disebut dengan nol, satu, dua atau lebih parameter."
   ]
  },
  {
   "cell_type": "code",
   "execution_count": null,
   "metadata": {},
   "outputs": [],
   "source": [
    "class Order:\n",
    "    def __init__(self, cart, customer):\n",
    "        self.cart = list(cart)\n",
    "        self.customer = customer\n",
    "\n",
    "    def __add__(self, other):\n",
    "        new_cart = self.cart.copy()\n",
    "        new_cart.append(other)\n",
    "        return Order(new_cart, self.customer)\n",
    "\n",
    "order = Order(['banana', 'apple'], 'Real Python')\n",
    "\n"
   ]
  }
 ],
 "metadata": {
  "kernelspec": {
   "display_name": "Python 3",
   "language": "python",
   "name": "python3"
  },
  "language_info": {
   "codemirror_mode": {
    "name": "ipython",
    "version": 3
   },
   "file_extension": ".py",
   "mimetype": "text/x-python",
   "name": "python",
   "nbconvert_exporter": "python",
   "pygments_lexer": "ipython3",
   "version": "3.6.5"
  }
 },
 "nbformat": 4,
 "nbformat_minor": 2
}
