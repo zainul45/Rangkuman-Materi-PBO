{
 "cells": [
  {
   "cell_type": "markdown",
   "metadata": {},
   "source": [
    "#Polimorphisme\n",
    "\n",
    "Polymorphism sebuah kata dari bahasa Yunani yang mempunyai arti banyak bentuk. Dua objek atau lebih dikatakan sebagai polymorphic bila kedua objek tersebut mempunyai (interface) antarmuka identik namun mempunyai perilaku yang berbeda. Dalam pemrograman, polimorpism dapat diartikan sebagai modul yang memiliki nama sama, namun memiliki behaviour yang berbeda sehingga listing code implementasinya juga berbeda."
   ]
  },
  {
   "cell_type": "code",
   "execution_count": null,
   "metadata": {},
   "outputs": [],
   "source": [
    "class pegawai:\n",
    "    def __init__(self):\n",
    "        self.nama = input(\"Nama :\")\n",
    "    def show(self):\n",
    "        raise NotimplementedError(\"subclass must implemet abstract method\")\n",
    "        \n",
    "class manager(pegawai):\n",
    "    def __init__(self, nama, gaji, tunjangan):\n",
    "        pegawai.__init__(self, nama)\n",
    "        self.tunjangan = int(input(\"Tunjangan :\"))\n",
    "        self.gaji = gaji\n",
    "    def gaji(self):\n",
    "        print(self.gaji + self.tunjangan)\n",
    "\n",
    "class programmer(pegawai):\n",
    "    def __init__(self, nama, gaji, bonus):\n",
    "        pegawai.__init__(self, nama)\n",
    "        self.bonus = int(input(\"Bonus :\"))\n",
    "        self.gaji = gaji\n",
    "    def gaji(self):\n",
    "        print(self.gaji + self.bonus)\n",
    "\n",
    "pgw = pegawai()\n",
    "mng = manager()\n",
    "pgm = programmer()\n",
    "\n"
   ]
  }
 ],
 "metadata": {
  "kernelspec": {
   "display_name": "Python 3",
   "language": "python",
   "name": "python3"
  },
  "language_info": {
   "codemirror_mode": {
    "name": "ipython",
    "version": 3
   },
   "file_extension": ".py",
   "mimetype": "text/x-python",
   "name": "python",
   "nbconvert_exporter": "python",
   "pygments_lexer": "ipython3",
   "version": "3.6.5"
  }
 },
 "nbformat": 4,
 "nbformat_minor": 2
}
