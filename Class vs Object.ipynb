{
 "cells": [
  {
   "cell_type": "markdown",
   "metadata": {},
   "source": [
    "Class Vs Object\n",
    "\n",
    "#Class\n",
    "class merupakan sebuah objek yang di dalam nya biasanya terdapat beberapa metode yang memang merupakan isi dari sebuah class ini. Class dan metode ini biasa di sembut sebagai OOP atau object oriented programing. Dan OOP ini memang fungsinya untuk memudahkan proses atau kegiatan programing kita\n",
    "\n",
    "Prototipe yang ditentukan pengguna untuk objek yang mendefinisikan seperangkat atribut yang menjadi ciri objek kelas apa pun. Atribut adalah data anggota (variabel kelas dan variabel contoh) dan metode, diakses melalui notasi titik."
   ]
  },
  {
   "cell_type": "markdown",
   "metadata": {},
   "source": [
    "#Object\n",
    "Contoh unik dari struktur data yang didefinisikan oleh kelasnya. Objek terdiri dari kedua anggota data (variabel kelas dan variabel contoh) dan metode."
   ]
  },
  {
   "cell_type": "code",
   "execution_count": 1,
   "metadata": {},
   "outputs": [
    {
     "name": "stdout",
     "output_type": "stream",
     "text": [
      "4\n",
      "Luas = 16\n",
      "Volume = 64\n"
     ]
    }
   ],
   "source": [
    "class Kubus:\n",
    "    def __init__(self,s):\n",
    "        self.sisi = s\n",
    "\n",
    "    def tampilkansisi(self):\n",
    "        print(self.sisi)\n",
    "\n",
    "    def luas(self):\n",
    "        print(\"Luas =\" ,self.sisi ** 2)\n",
    "\n",
    "    def volume(self):\n",
    "        print(\"Volume =\" ,self.sisi **3)\n",
    "\n",
    "Kubus1 = Kubus(4)\n",
    "Kubus1.tampilkansisi()\n",
    "Kubus1.luas()\n",
    "Kubus1.volume()"
   ]
  }
 ],
 "metadata": {
  "kernelspec": {
   "display_name": "Python 3",
   "language": "python",
   "name": "python3"
  },
  "language_info": {
   "codemirror_mode": {
    "name": "ipython",
    "version": 3
   },
   "file_extension": ".py",
   "mimetype": "text/x-python",
   "name": "python",
   "nbconvert_exporter": "python",
   "pygments_lexer": "ipython3",
   "version": "3.6.5"
  }
 },
 "nbformat": 4,
 "nbformat_minor": 2
}
